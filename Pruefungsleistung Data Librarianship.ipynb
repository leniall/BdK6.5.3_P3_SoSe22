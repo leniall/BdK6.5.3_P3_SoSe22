{
 "cells": [
  {
   "cell_type": "markdown",
   "metadata": {},
   "source": [
    "# Prüfungsleistung Data Librarianship"
   ]
  },
  {
   "cell_type": "code",
   "execution_count": 1,
   "metadata": {},
   "outputs": [],
   "source": [
    "# Import der - vermutlich - nötigen libraries\n",
    "import pandas as pd\n",
    "import urllib.request\n",
    "import seaborn as sns\n",
    "import matplotlib.pyplot as plt\n",
    "import numpy as np"
   ]
  },
  {
   "cell_type": "markdown",
   "metadata": {},
   "source": [
    "Der zu Grunde liegende Datensatz ist ein Auszug der Checkouts der Seattle Library aus dem Jahr 2018, limitier auf 10000 Zeilen."
   ]
  },
  {
   "cell_type": "code",
   "execution_count": 2,
   "metadata": {},
   "outputs": [],
   "source": [
    "# Setzen der Variablen url und checkout_file\n",
    "url = \"https://data.seattle.gov/resource/tmmm-ytt6.csv?$where=checkoutyear=2018&$limit=10000\""
   ]
  },
  {
   "cell_type": "code",
   "execution_count": 3,
   "metadata": {},
   "outputs": [],
   "source": [
    "checkout_file = \"checkouts.csv\""
   ]
  },
  {
   "cell_type": "code",
   "execution_count": 4,
   "metadata": {},
   "outputs": [
    {
     "data": {
      "text/plain": [
       "('checkouts.csv', <http.client.HTTPMessage at 0x1852f507400>)"
      ]
     },
     "execution_count": 4,
     "metadata": {},
     "output_type": "execute_result"
    }
   ],
   "source": [
    "\n",
    "urllib.request.urlretrieve(url, checkout_file)"
   ]
  },
  {
   "cell_type": "code",
   "execution_count": 5,
   "metadata": {},
   "outputs": [],
   "source": [
    "checkouts_list = pd.read_csv(checkout_file)"
   ]
  },
  {
   "cell_type": "code",
   "execution_count": 6,
   "metadata": {},
   "outputs": [
    {
     "data": {
      "text/html": [
       "<div>\n",
       "<style scoped>\n",
       "    .dataframe tbody tr th:only-of-type {\n",
       "        vertical-align: middle;\n",
       "    }\n",
       "\n",
       "    .dataframe tbody tr th {\n",
       "        vertical-align: top;\n",
       "    }\n",
       "\n",
       "    .dataframe thead th {\n",
       "        text-align: right;\n",
       "    }\n",
       "</style>\n",
       "<table border=\"1\" class=\"dataframe\">\n",
       "  <thead>\n",
       "    <tr style=\"text-align: right;\">\n",
       "      <th></th>\n",
       "      <th>usageclass</th>\n",
       "      <th>checkouttype</th>\n",
       "      <th>materialtype</th>\n",
       "      <th>checkoutyear</th>\n",
       "      <th>checkoutmonth</th>\n",
       "      <th>checkouts</th>\n",
       "      <th>title</th>\n",
       "      <th>isbn</th>\n",
       "      <th>creator</th>\n",
       "      <th>subjects</th>\n",
       "      <th>publisher</th>\n",
       "      <th>publicationyear</th>\n",
       "    </tr>\n",
       "  </thead>\n",
       "  <tbody>\n",
       "    <tr>\n",
       "      <th>0</th>\n",
       "      <td>Digital</td>\n",
       "      <td>OverDrive</td>\n",
       "      <td>EBOOK</td>\n",
       "      <td>2018</td>\n",
       "      <td>1</td>\n",
       "      <td>22</td>\n",
       "      <td>Enemy of the State</td>\n",
       "      <td>NaN</td>\n",
       "      <td>Vince Flynn</td>\n",
       "      <td>Fiction, Literature, Thriller</td>\n",
       "      <td>Simon &amp; Schuster, Inc.</td>\n",
       "      <td>2017</td>\n",
       "    </tr>\n",
       "    <tr>\n",
       "      <th>1</th>\n",
       "      <td>Digital</td>\n",
       "      <td>Hoopla</td>\n",
       "      <td>TELEVISION</td>\n",
       "      <td>2018</td>\n",
       "      <td>1</td>\n",
       "      <td>1</td>\n",
       "      <td>Newspaper Mom / Cucumber in Rio / Donut Raffle</td>\n",
       "      <td>NaN</td>\n",
       "      <td>NaN</td>\n",
       "      <td>Children's</td>\n",
       "      <td>DHX Media</td>\n",
       "      <td>NaN</td>\n",
       "    </tr>\n",
       "    <tr>\n",
       "      <th>2</th>\n",
       "      <td>Physical</td>\n",
       "      <td>Horizon</td>\n",
       "      <td>SOUNDDISC</td>\n",
       "      <td>2018</td>\n",
       "      <td>1</td>\n",
       "      <td>1</td>\n",
       "      <td>Mono / the Mavericks.</td>\n",
       "      <td>NaN</td>\n",
       "      <td>Mavericks (Musical group)</td>\n",
       "      <td>Country music 2011 2020</td>\n",
       "      <td>Valory,</td>\n",
       "      <td>[2015]</td>\n",
       "    </tr>\n",
       "    <tr>\n",
       "      <th>3</th>\n",
       "      <td>Digital</td>\n",
       "      <td>OverDrive</td>\n",
       "      <td>EBOOK</td>\n",
       "      <td>2018</td>\n",
       "      <td>1</td>\n",
       "      <td>2</td>\n",
       "      <td>Anna Karenina</td>\n",
       "      <td>NaN</td>\n",
       "      <td>Leo Tolstoy</td>\n",
       "      <td>Classic Literature, Fiction, Literature</td>\n",
       "      <td>Penguin Group (USA), Inc.</td>\n",
       "      <td>2009</td>\n",
       "    </tr>\n",
       "    <tr>\n",
       "      <th>4</th>\n",
       "      <td>Digital</td>\n",
       "      <td>OverDrive</td>\n",
       "      <td>EBOOK</td>\n",
       "      <td>2018</td>\n",
       "      <td>1</td>\n",
       "      <td>1</td>\n",
       "      <td>Dragon: Vlad Series, Book 8</td>\n",
       "      <td>NaN</td>\n",
       "      <td>Steven Brust</td>\n",
       "      <td>Fantasy, Fiction</td>\n",
       "      <td>Macmillan Publishers</td>\n",
       "      <td>2015</td>\n",
       "    </tr>\n",
       "    <tr>\n",
       "      <th>...</th>\n",
       "      <td>...</td>\n",
       "      <td>...</td>\n",
       "      <td>...</td>\n",
       "      <td>...</td>\n",
       "      <td>...</td>\n",
       "      <td>...</td>\n",
       "      <td>...</td>\n",
       "      <td>...</td>\n",
       "      <td>...</td>\n",
       "      <td>...</td>\n",
       "      <td>...</td>\n",
       "      <td>...</td>\n",
       "    </tr>\n",
       "    <tr>\n",
       "      <th>9995</th>\n",
       "      <td>Digital</td>\n",
       "      <td>OverDrive</td>\n",
       "      <td>AUDIOBOOK</td>\n",
       "      <td>2018</td>\n",
       "      <td>1</td>\n",
       "      <td>1</td>\n",
       "      <td>Cooking for Picasso: A Novel (unabridged) (Una...</td>\n",
       "      <td>NaN</td>\n",
       "      <td>Camille Aubray</td>\n",
       "      <td>Fiction, Historical Fiction, Literature</td>\n",
       "      <td>Books on Tape</td>\n",
       "      <td>2016</td>\n",
       "    </tr>\n",
       "    <tr>\n",
       "      <th>9996</th>\n",
       "      <td>Digital</td>\n",
       "      <td>OverDrive</td>\n",
       "      <td>EBOOK</td>\n",
       "      <td>2018</td>\n",
       "      <td>1</td>\n",
       "      <td>1</td>\n",
       "      <td>The Book of Summer: A Novel</td>\n",
       "      <td>NaN</td>\n",
       "      <td>Michelle Gable</td>\n",
       "      <td>Fiction, Historical Fiction, Literature</td>\n",
       "      <td>Macmillan Publishers</td>\n",
       "      <td>2017</td>\n",
       "    </tr>\n",
       "    <tr>\n",
       "      <th>9997</th>\n",
       "      <td>Physical</td>\n",
       "      <td>Horizon</td>\n",
       "      <td>BOOK</td>\n",
       "      <td>2018</td>\n",
       "      <td>1</td>\n",
       "      <td>1</td>\n",
       "      <td>Revival / Stephen King.</td>\n",
       "      <td>NaN</td>\n",
       "      <td>King, Stephen, 1947-</td>\n",
       "      <td>Drug addicts Fiction, Clergy Fiction, Rock mus...</td>\n",
       "      <td>Thorndike Press,</td>\n",
       "      <td>2014.</td>\n",
       "    </tr>\n",
       "    <tr>\n",
       "      <th>9998</th>\n",
       "      <td>Physical</td>\n",
       "      <td>Horizon</td>\n",
       "      <td>BOOK</td>\n",
       "      <td>2018</td>\n",
       "      <td>1</td>\n",
       "      <td>4</td>\n",
       "      <td>Loula is leaving for Africa / written and illu...</td>\n",
       "      <td>NaN</td>\n",
       "      <td>Villeneuve, Anne, 1966-</td>\n",
       "      <td>Imagination Juvenile fiction, Chauffeurs Juven...</td>\n",
       "      <td>Kids Can Press,</td>\n",
       "      <td>[2013]</td>\n",
       "    </tr>\n",
       "    <tr>\n",
       "      <th>9999</th>\n",
       "      <td>Digital</td>\n",
       "      <td>OverDrive</td>\n",
       "      <td>AUDIOBOOK</td>\n",
       "      <td>2018</td>\n",
       "      <td>1</td>\n",
       "      <td>1</td>\n",
       "      <td>The Story About Ping (Unabridged)</td>\n",
       "      <td>NaN</td>\n",
       "      <td>Marjorie Flack</td>\n",
       "      <td>Juvenile Fiction</td>\n",
       "      <td>Weston Woods Studios Inc., a subsidiary of Sch...</td>\n",
       "      <td>2012</td>\n",
       "    </tr>\n",
       "  </tbody>\n",
       "</table>\n",
       "<p>10000 rows × 12 columns</p>\n",
       "</div>"
      ],
      "text/plain": [
       "     usageclass checkouttype materialtype  checkoutyear  checkoutmonth  \\\n",
       "0       Digital    OverDrive        EBOOK          2018              1   \n",
       "1       Digital       Hoopla   TELEVISION          2018              1   \n",
       "2      Physical      Horizon    SOUNDDISC          2018              1   \n",
       "3       Digital    OverDrive        EBOOK          2018              1   \n",
       "4       Digital    OverDrive        EBOOK          2018              1   \n",
       "...         ...          ...          ...           ...            ...   \n",
       "9995    Digital    OverDrive    AUDIOBOOK          2018              1   \n",
       "9996    Digital    OverDrive        EBOOK          2018              1   \n",
       "9997   Physical      Horizon         BOOK          2018              1   \n",
       "9998   Physical      Horizon         BOOK          2018              1   \n",
       "9999    Digital    OverDrive    AUDIOBOOK          2018              1   \n",
       "\n",
       "      checkouts                                              title  isbn  \\\n",
       "0            22                                 Enemy of the State   NaN   \n",
       "1             1     Newspaper Mom / Cucumber in Rio / Donut Raffle   NaN   \n",
       "2             1                              Mono / the Mavericks.   NaN   \n",
       "3             2                                      Anna Karenina   NaN   \n",
       "4             1                        Dragon: Vlad Series, Book 8   NaN   \n",
       "...         ...                                                ...   ...   \n",
       "9995          1  Cooking for Picasso: A Novel (unabridged) (Una...   NaN   \n",
       "9996          1                        The Book of Summer: A Novel   NaN   \n",
       "9997          1                            Revival / Stephen King.   NaN   \n",
       "9998          4  Loula is leaving for Africa / written and illu...   NaN   \n",
       "9999          1                  The Story About Ping (Unabridged)   NaN   \n",
       "\n",
       "                        creator  \\\n",
       "0                   Vince Flynn   \n",
       "1                           NaN   \n",
       "2     Mavericks (Musical group)   \n",
       "3                   Leo Tolstoy   \n",
       "4                  Steven Brust   \n",
       "...                         ...   \n",
       "9995             Camille Aubray   \n",
       "9996             Michelle Gable   \n",
       "9997       King, Stephen, 1947-   \n",
       "9998    Villeneuve, Anne, 1966-   \n",
       "9999             Marjorie Flack   \n",
       "\n",
       "                                               subjects  \\\n",
       "0                         Fiction, Literature, Thriller   \n",
       "1                                            Children's   \n",
       "2                               Country music 2011 2020   \n",
       "3               Classic Literature, Fiction, Literature   \n",
       "4                                      Fantasy, Fiction   \n",
       "...                                                 ...   \n",
       "9995            Fiction, Historical Fiction, Literature   \n",
       "9996            Fiction, Historical Fiction, Literature   \n",
       "9997  Drug addicts Fiction, Clergy Fiction, Rock mus...   \n",
       "9998  Imagination Juvenile fiction, Chauffeurs Juven...   \n",
       "9999                                   Juvenile Fiction   \n",
       "\n",
       "                                              publisher publicationyear  \n",
       "0                                Simon & Schuster, Inc.            2017  \n",
       "1                                             DHX Media             NaN  \n",
       "2                                               Valory,          [2015]  \n",
       "3                             Penguin Group (USA), Inc.            2009  \n",
       "4                                  Macmillan Publishers            2015  \n",
       "...                                                 ...             ...  \n",
       "9995                                      Books on Tape            2016  \n",
       "9996                               Macmillan Publishers            2017  \n",
       "9997                                   Thorndike Press,           2014.  \n",
       "9998                                    Kids Can Press,          [2013]  \n",
       "9999  Weston Woods Studios Inc., a subsidiary of Sch...            2012  \n",
       "\n",
       "[10000 rows x 12 columns]"
      ]
     },
     "execution_count": 6,
     "metadata": {},
     "output_type": "execute_result"
    }
   ],
   "source": [
    "checkouts_list"
   ]
  },
  {
   "cell_type": "markdown",
   "metadata": {},
   "source": [
    "## Frage 1\n",
    "Wie häufig werden Medien im Schnitt ausgeliehen? Wie sieht die Verteilung aus?"
   ]
  },
  {
   "cell_type": "code",
   "execution_count": 7,
   "metadata": {},
   "outputs": [
    {
     "name": "stdout",
     "output_type": "stream",
     "text": [
      "     usageclass checkouttype materialtype  checkoutyear  checkoutmonth  \\\n",
      "0       Digital    OverDrive        EBOOK          2018              1   \n",
      "1       Digital       Hoopla   TELEVISION          2018              1   \n",
      "2      Physical      Horizon    SOUNDDISC          2018              1   \n",
      "3       Digital    OverDrive        EBOOK          2018              1   \n",
      "4       Digital    OverDrive        EBOOK          2018              1   \n",
      "...         ...          ...          ...           ...            ...   \n",
      "9995    Digital    OverDrive    AUDIOBOOK          2018              1   \n",
      "9996    Digital    OverDrive        EBOOK          2018              1   \n",
      "9997   Physical      Horizon         BOOK          2018              1   \n",
      "9998   Physical      Horizon         BOOK          2018              1   \n",
      "9999    Digital    OverDrive    AUDIOBOOK          2018              1   \n",
      "\n",
      "      checkouts                                              title  isbn  \\\n",
      "0            22                                 Enemy of the State   NaN   \n",
      "1             1     Newspaper Mom / Cucumber in Rio / Donut Raffle   NaN   \n",
      "2             1                              Mono / the Mavericks.   NaN   \n",
      "3             2                                      Anna Karenina   NaN   \n",
      "4             1                        Dragon: Vlad Series, Book 8   NaN   \n",
      "...         ...                                                ...   ...   \n",
      "9995          1  Cooking for Picasso: A Novel (unabridged) (Una...   NaN   \n",
      "9996          1                        The Book of Summer: A Novel   NaN   \n",
      "9997          1                            Revival / Stephen King.   NaN   \n",
      "9998          4  Loula is leaving for Africa / written and illu...   NaN   \n",
      "9999          1                  The Story About Ping (Unabridged)   NaN   \n",
      "\n",
      "                        creator  \\\n",
      "0                   Vince Flynn   \n",
      "1                           NaN   \n",
      "2     Mavericks (Musical group)   \n",
      "3                   Leo Tolstoy   \n",
      "4                  Steven Brust   \n",
      "...                         ...   \n",
      "9995             Camille Aubray   \n",
      "9996             Michelle Gable   \n",
      "9997       King, Stephen, 1947-   \n",
      "9998    Villeneuve, Anne, 1966-   \n",
      "9999             Marjorie Flack   \n",
      "\n",
      "                                               subjects  \\\n",
      "0                         Fiction, Literature, Thriller   \n",
      "1                                            Children's   \n",
      "2                               Country music 2011 2020   \n",
      "3               Classic Literature, Fiction, Literature   \n",
      "4                                      Fantasy, Fiction   \n",
      "...                                                 ...   \n",
      "9995            Fiction, Historical Fiction, Literature   \n",
      "9996            Fiction, Historical Fiction, Literature   \n",
      "9997  Drug addicts Fiction, Clergy Fiction, Rock mus...   \n",
      "9998  Imagination Juvenile fiction, Chauffeurs Juven...   \n",
      "9999                                   Juvenile Fiction   \n",
      "\n",
      "                                              publisher publicationyear  \n",
      "0                                Simon & Schuster, Inc.            2017  \n",
      "1                                             DHX Media             NaN  \n",
      "2                                               Valory,          [2015]  \n",
      "3                             Penguin Group (USA), Inc.            2009  \n",
      "4                                  Macmillan Publishers            2015  \n",
      "...                                                 ...             ...  \n",
      "9995                                      Books on Tape            2016  \n",
      "9996                               Macmillan Publishers            2017  \n",
      "9997                                   Thorndike Press,           2014.  \n",
      "9998                                    Kids Can Press,          [2013]  \n",
      "9999  Weston Woods Studios Inc., a subsidiary of Sch...            2012  \n",
      "\n",
      "[10000 rows x 12 columns]\n"
     ]
    }
   ],
   "source": [
    "print(checkouts_list)"
   ]
  },
  {
   "cell_type": "markdown",
   "metadata": {},
   "source": [
    "Um Frage 1 zu beantworten, muss die Spale \"checkouts\" ausgelesen werden, die die Anzahl der Ausleihen im Jahr 2018 für jedes einzelne Medium anzeigt."
   ]
  },
  {
   "cell_type": "code",
   "execution_count": 8,
   "metadata": {},
   "outputs": [
    {
     "data": {
      "text/plain": [
       "0       22\n",
       "1        1\n",
       "2        1\n",
       "3        2\n",
       "4        1\n",
       "        ..\n",
       "9995     1\n",
       "9996     1\n",
       "9997     1\n",
       "9998     4\n",
       "9999     1\n",
       "Name: checkouts, Length: 10000, dtype: int64"
      ]
     },
     "execution_count": 8,
     "metadata": {},
     "output_type": "execute_result"
    }
   ],
   "source": [
    "checkouts_list[\"checkouts\"]"
   ]
  },
  {
   "cell_type": "code",
   "execution_count": 9,
   "metadata": {},
   "outputs": [
    {
     "data": {
      "text/plain": [
       "1"
      ]
     },
     "execution_count": 9,
     "metadata": {},
     "output_type": "execute_result"
    }
   ],
   "source": [
    "# Zeigt den geringsten Wert für checkouts an.\n",
    "checkouts_list[\"checkouts\"].min()"
   ]
  },
  {
   "cell_type": "code",
   "execution_count": 10,
   "metadata": {},
   "outputs": [
    {
     "data": {
      "text/plain": [
       "540"
      ]
     },
     "execution_count": 10,
     "metadata": {},
     "output_type": "execute_result"
    }
   ],
   "source": [
    "# Zeigt den höchsten Wert für checkouts an.\n",
    "checkouts_list[\"checkouts\"].max()"
   ]
  },
  {
   "cell_type": "markdown",
   "metadata": {},
   "source": [
    "Die Medien des augewählen Bereichs werden also zwischen 1 und 540 Mal ausgeliehen."
   ]
  },
  {
   "cell_type": "code",
   "execution_count": 11,
   "metadata": {},
   "outputs": [
    {
     "data": {
      "text/plain": [
       "<AxesSubplot:>"
      ]
     },
     "execution_count": 11,
     "metadata": {},
     "output_type": "execute_result"
    },
    {
     "data": {
      "image/png": "[encoded data removed]",
      "text/plain": [
       "<Figure size 432x288 with 1 Axes>"
      ]
     },
     "metadata": {
      "needs_background": "light"
     },
     "output_type": "display_data"
    }
   ],
   "source": [
    "\n",
    "checkouts_list[\"checkouts\"].hist(bins=100)"
   ]
  },
  {
   "cell_type": "markdown",
   "metadata": {},
   "source": [
    "Das Histogram zu den Checkouts gibt nicht so richtig viel her. Man kann sehen, dass die meisten Titel selten ausgeliehen wurden, ganz wenige sehr häufig."
   ]
  },
  {
   "cell_type": "code",
   "execution_count": 12,
   "metadata": {},
   "outputs": [
    {
     "data": {
      "text/plain": [
       "3.339"
      ]
     },
     "execution_count": 12,
     "metadata": {},
     "output_type": "execute_result"
    }
   ],
   "source": [
    "# .mean zeigt nun endlich den durschnittlichen Wert an.\n",
    "checkouts_list[\"checkouts\"].mean()"
   ]
  },
  {
   "cell_type": "code",
   "execution_count": 13,
   "metadata": {},
   "outputs": [
    {
     "data": {
      "text/plain": [
       "1.0"
      ]
     },
     "execution_count": 13,
     "metadata": {},
     "output_type": "execute_result"
    }
   ],
   "source": [
    "# .mean zeigt den Median an.\n",
    "checkouts_list[\"checkouts\"].median()"
   ]
  },
  {
   "cell_type": "markdown",
   "metadata": {},
   "source": [
    "## Antwort zu Frage 1\n",
    "Im Schnitt wurden Medien 3,3 Mal im Jahr 2018 ausgeliehen. Der Median liegt allterdings bei 1. Der höhere Durschnitt lässt sich durch die Ausreißer nach oben mit 540 Ausleihen erklären."
   ]
  },
  {
   "cell_type": "markdown",
   "metadata": {},
   "source": [
    "## Frage 2\n",
    "Bei 540 Ausleihen drängt sich die Frage auf: Welches Medium wurde 540 Mal entliehen?"
   ]
  },
  {
   "cell_type": "code",
   "execution_count": 20,
   "metadata": {},
   "outputs": [
    {
     "data": {
      "text/plain": [
       "6577"
      ]
     },
     "execution_count": 20,
     "metadata": {},
     "output_type": "execute_result"
    }
   ],
   "source": [
    "# Mit .idmax() wird die Zeile ausgegeben, in der in der Spalte checkouts der höchste Wert vorhanden ist.\n",
    "checkouts_list.checkouts.idxmax()"
   ]
  },
  {
   "cell_type": "code",
   "execution_count": 21,
   "metadata": {},
   "outputs": [
    {
     "name": "stdout",
     "output_type": "stream",
     "text": [
      "     usageclass checkouttype materialtype  checkoutyear  checkoutmonth  \\\n",
      "6577   Physical      Horizon         BOOK          2018              1   \n",
      "\n",
      "      checkouts                                              title  isbn  \\\n",
      "6577        540  In the midst of winter : a novel / Isabel Alle...   NaN   \n",
      "\n",
      "              creator                                           subjects  \\\n",
      "6577  Allende, Isabel  College teachers Fiction, Women college teache...   \n",
      "\n",
      "         publisher publicationyear  \n",
      "6577  Atria Books,           2017.  \n"
     ]
    }
   ],
   "source": [
    "# .loc spricht die Location, die Zeile im Dataframe an.\n",
    "print(checkouts_list.loc[[6577]])"
   ]
  },
  {
   "cell_type": "code",
   "execution_count": 22,
   "metadata": {},
   "outputs": [
    {
     "data": {
      "text/html": [
       "<div>\n",
       "<style scoped>\n",
       "    .dataframe tbody tr th:only-of-type {\n",
       "        vertical-align: middle;\n",
       "    }\n",
       "\n",
       "    .dataframe tbody tr th {\n",
       "        vertical-align: top;\n",
       "    }\n",
       "\n",
       "    .dataframe thead th {\n",
       "        text-align: right;\n",
       "    }\n",
       "</style>\n",
       "<table border=\"1\" class=\"dataframe\">\n",
       "  <thead>\n",
       "    <tr style=\"text-align: right;\">\n",
       "      <th></th>\n",
       "      <th>usageclass</th>\n",
       "      <th>checkouttype</th>\n",
       "      <th>materialtype</th>\n",
       "      <th>checkoutyear</th>\n",
       "      <th>checkoutmonth</th>\n",
       "      <th>checkouts</th>\n",
       "      <th>title</th>\n",
       "      <th>isbn</th>\n",
       "      <th>creator</th>\n",
       "      <th>subjects</th>\n",
       "      <th>publisher</th>\n",
       "      <th>publicationyear</th>\n",
       "    </tr>\n",
       "  </thead>\n",
       "  <tbody>\n",
       "    <tr>\n",
       "      <th>6577</th>\n",
       "      <td>Physical</td>\n",
       "      <td>Horizon</td>\n",
       "      <td>BOOK</td>\n",
       "      <td>2018</td>\n",
       "      <td>1</td>\n",
       "      <td>540</td>\n",
       "      <td>In the midst of winter : a novel / Isabel Alle...</td>\n",
       "      <td>NaN</td>\n",
       "      <td>Allende, Isabel</td>\n",
       "      <td>College teachers Fiction, Women college teache...</td>\n",
       "      <td>Atria Books,</td>\n",
       "      <td>2017.</td>\n",
       "    </tr>\n",
       "  </tbody>\n",
       "</table>\n",
       "</div>"
      ],
      "text/plain": [
       "     usageclass checkouttype materialtype  checkoutyear  checkoutmonth  \\\n",
       "6577   Physical      Horizon         BOOK          2018              1   \n",
       "\n",
       "      checkouts                                              title  isbn  \\\n",
       "6577        540  In the midst of winter : a novel / Isabel Alle...   NaN   \n",
       "\n",
       "              creator                                           subjects  \\\n",
       "6577  Allende, Isabel  College teachers Fiction, Women college teache...   \n",
       "\n",
       "         publisher publicationyear  \n",
       "6577  Atria Books,           2017.  "
      ]
     },
     "execution_count": 22,
     "metadata": {},
     "output_type": "execute_result"
    }
   ],
   "source": [
    "checkouts_list.loc[[6577]]"
   ]
  },
  {
   "cell_type": "markdown",
   "metadata": {},
   "source": [
    "## Antwort Frage 2\n",
    "[In the midst of winter](https://seattle.bibliocommons.com/v2/record/S30C3271806 \"Find @ The Seattle Public Library\") von Isabel Allende wurde 540 Mal entliehen. Der Link führt direkt zur entsprechenden Seite im Katalog der Seattle Public Library."
   ]
  },
  {
   "cell_type": "code",
   "execution_count": null,
   "metadata": {},
   "outputs": [],
   "source": []
  }
 ],
 "metadata": {
  "kernelspec": {
   "display_name": "Python 3",
   "language": "python",
   "name": "python3"
  },
  "language_info": {
   "codemirror_mode": {
    "name": "ipython",
    "version": 3
   },
   "file_extension": ".py",
   "mimetype": "text/x-python",
   "name": "python",
   "nbconvert_exporter": "python",
   "pygments_lexer": "ipython3",
   "version": "3.8.5"
  }
 },
 "nbformat": 4,
 "nbformat_minor": 4
}
